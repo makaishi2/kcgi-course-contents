{
 "cells": [
  {
   "cell_type": "markdown",
   "metadata": {},
   "source": [
    "# Python入門2 課題"
   ]
  },
  {
   "cell_type": "markdown",
   "metadata": {},
   "source": [
    "<span style=\"color:blue\">\n",
    "次のような数値リストをrange関数を使って作ってください\n",
    "</span>"
   ]
  },
  {
   "cell_type": "markdown",
   "metadata": {},
   "source": [
    "#### 問題1  \n",
    "```\n",
    "list1 = [10, 20, 30, .., 100] \n",
    "```"
   ]
  },
  {
   "cell_type": "code",
   "execution_count": null,
   "metadata": {},
   "outputs": [],
   "source": [
    "# 解答1\n",
    "\n",
    "# 次のrange関数の引数をコーディングします。\n",
    "list1 = range()\n",
    "\n",
    "# 結果確認\n",
    "print(list(list1))"
   ]
  },
  {
   "cell_type": "markdown",
   "metadata": {},
   "source": [
    "#### 問題2 \n",
    "\n",
    "```\n",
    "list2 = [20, 19, 18.., 1] \n",
    "```"
   ]
  },
  {
   "cell_type": "code",
   "execution_count": null,
   "metadata": {},
   "outputs": [],
   "source": [
    "# 解答2\n",
    "\n",
    "# 次のrange関数の引数をコーディングします。\n",
    "list2 = range()\n",
    "\n",
    "# 結果確認\n",
    "print(list(list2))"
   ]
  },
  {
   "cell_type": "markdown",
   "metadata": {},
   "source": [
    "#### 問題3\n",
    "\n",
    "<span style=\"color:blue\">\n",
    "ネストのかかったif構文の実装\n",
    "</span>\n",
    "\n",
    "二次元変数x[0], x[1] があり、それぞれTrueかFalseの値を取るものとします。    \n",
    "次のような条件でprint文を出力するプログラムを組んでください。  \n",
    "\n",
    "次のような条件でprint文を出力するプログラムを組んでください。  \n",
    "(注) 条件をandでつないで一気に書くやりかたもありますが、  \n",
    "今回は練習のためネストのかかった2段階のif文でコーディングしてください。\n",
    "\n",
    "x[0]==True, x[1]==True -> very good  \n",
    "x[0]==True, x[1]==False -> good  \n",
    "x[0]==False, x[1]==True -> bad  \n",
    "x[0]==False, x[1]==False -> very bad  "
   ]
  },
  {
   "cell_type": "code",
   "execution_count": null,
   "metadata": {},
   "outputs": [],
   "source": [
    "# 解答3 (以下の4つの条件それぞれでテストしてみます)\n",
    "\n",
    "x = [True, True]\n",
    "#x = [True, False]\n",
    "#x = [False, True]\n",
    "#x = [False, False]\n",
    "\n",
    "if    # 以下にif文のコーディングをして下さい\n",
    "\n"
   ]
  },
  {
   "cell_type": "markdown",
   "metadata": {},
   "source": [
    "#### 問題4\n",
    "<span style=\"color:blue\">\n",
    "リスト内包表記の実装\n",
    "</span>\n",
    "\n",
    "``q_list = [0, 1, 2, 3, 4, 5, 6, 7]``\n",
    "というlist変数を元に次のlist変数を作って下さい。\n",
    "\n",
    "``list4 = [0, 1, 4, 9, 16, 25, 36, 49]``\n",
    "\n",
    "ヒント $x^2$はPythonでは ``x**2`` で表します。 "
   ]
  },
  {
   "cell_type": "code",
   "execution_count": null,
   "metadata": {},
   "outputs": [],
   "source": [
    "# 解答4\n",
    "\n",
    "# 次の行でリスト内包表記を行います\n",
    "list4 = []\n",
    "\n",
    "# 結果の確認\n",
    "print(list4)"
   ]
  },
  {
   "cell_type": "markdown",
   "metadata": {},
   "source": [
    "#### 問題5\n",
    "問題4同様に q_list を元に、\n",
    "``list5 = [0, 4, 16, 36]``\n",
    "というlist変数を作って下さい。\n",
    "\n",
    "ヒント 「x を y で割った余り」はPythonでは ``x%y`` で表します。\n"
   ]
  },
  {
   "cell_type": "code",
   "execution_count": null,
   "metadata": {},
   "outputs": [],
   "source": [
    "# 解答5\n",
    "\n",
    "# 次の行でリスト内包表記を行います\n",
    "list5 = []\n",
    "\n",
    "# 結果の確認\n",
    "print(list5)"
   ]
  },
  {
   "cell_type": "code",
   "execution_count": null,
   "metadata": {},
   "outputs": [],
   "source": []
  }
 ],
 "metadata": {
  "kernelspec": {
   "display_name": "Python 3",
   "language": "python",
   "name": "python3"
  },
  "language_info": {
   "codemirror_mode": {
    "name": "ipython",
    "version": 3
   },
   "file_extension": ".py",
   "mimetype": "text/x-python",
   "name": "python",
   "nbconvert_exporter": "python",
   "pygments_lexer": "ipython3",
   "version": "3.7.3"
  }
 },
 "nbformat": 4,
 "nbformat_minor": 2
}
