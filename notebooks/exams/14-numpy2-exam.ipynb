{
 "cells": [
  {
   "cell_type": "markdown",
   "metadata": {},
   "source": [
    "##  Numpy2 課題"
   ]
  },
  {
   "cell_type": "markdown",
   "metadata": {},
   "source": [
    "重回帰用の学習データx2に更に、項目'CRIM'と'ZN'を追加したデータx4を作って下さい。"
   ]
  },
  {
   "cell_type": "code",
   "execution_count": 1,
   "metadata": {},
   "outputs": [],
   "source": [
    "# 必要ライブラリimport\n",
    "import numpy as np\n",
    "from sklearn.datasets import load_boston\n",
    "\n",
    "boston = load_boston()\n",
    "x_org, yt = boston.data, boston.target\n",
    "feature_names = boston.feature_names\n",
    "\n",
    "x_data = x_org[:,feature_names == 'RM']\n",
    "x = np.insert(x_data, 0, 1.0, axis=1)\n",
    "\n",
    "x_add = x_org[:,feature_names == 'LSTAT']\n",
    "x2 = np.hstack((x, x_add))"
   ]
  },
  {
   "cell_type": "code",
   "execution_count": 2,
   "metadata": {},
   "outputs": [
    {
     "name": "stdout",
     "output_type": "stream",
     "text": [
      "(506, 3)\n",
      "[[1.    6.575 4.98 ]\n",
      " [1.    6.421 9.14 ]\n",
      " [1.    7.185 4.03 ]\n",
      " [1.    6.998 2.94 ]\n",
      " [1.    7.147 5.33 ]]\n"
     ]
    }
   ],
   "source": [
    "print(x2.shape)\n",
    "print(x2[:5,:])"
   ]
  },
  {
   "cell_type": "code",
   "execution_count": null,
   "metadata": {},
   "outputs": [],
   "source": [
    "# ここから先にx4作成用のコードを書いて下さい\n"
   ]
  }
 ],
 "metadata": {
  "kernelspec": {
   "display_name": "Python 3",
   "language": "python",
   "name": "python3"
  },
  "language_info": {
   "codemirror_mode": {
    "name": "ipython",
    "version": 3
   },
   "file_extension": ".py",
   "mimetype": "text/x-python",
   "name": "python",
   "nbconvert_exporter": "python",
   "pygments_lexer": "ipython3",
   "version": "3.7.3"
  }
 },
 "nbformat": 4,
 "nbformat_minor": 2
}
