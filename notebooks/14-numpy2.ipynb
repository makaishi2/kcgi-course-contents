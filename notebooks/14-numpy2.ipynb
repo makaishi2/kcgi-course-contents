{
 "cells": [
  {
   "cell_type": "markdown",
   "metadata": {},
   "source": [
    "## Numpy入門2\n",
    "7章の単回帰モデル実習での、学習データ準備の過程を詳しく説明しました。  \n",
    "(この解説は書籍には含まれていません)"
   ]
  },
  {
   "cell_type": "code",
   "execution_count": 1,
   "metadata": {},
   "outputs": [],
   "source": [
    "# 必要ライブラリimport\n",
    "import numpy as np\n",
    "from sklearn.datasets import load_boston"
   ]
  },
  {
   "cell_type": "code",
   "execution_count": 2,
   "metadata": {},
   "outputs": [],
   "source": [
    "# 学習用データの読み込み\n",
    "# Boston Dataセットというよく使われるデータなので、関数を呼び出すと自動的にダウンロードされます\n",
    "\n",
    "boston = load_boston()\n",
    "x_org, yt = boston.data, boston.target\n",
    "feature_names = boston.feature_names"
   ]
  },
  {
   "cell_type": "code",
   "execution_count": 3,
   "metadata": {},
   "outputs": [
    {
     "name": "stdout",
     "output_type": "stream",
     "text": [
      "[24.  21.6 34.7 33.4 36.2]\n"
     ]
    }
   ],
   "source": [
    "# 正解データ ytの表示(一部)\n",
    "\n",
    "print(yt[:5])"
   ]
  },
  {
   "cell_type": "code",
   "execution_count": 4,
   "metadata": {},
   "outputs": [
    {
     "name": "stdout",
     "output_type": "stream",
     "text": [
      "クラス名: <class 'numpy.ndarray'>\n",
      "サイズ: (506, 13)\n",
      "内容表示(一部):\n",
      "[[6.3200e-03 1.8000e+01 2.3100e+00 0.0000e+00 5.3800e-01 6.5750e+00\n",
      "  6.5200e+01 4.0900e+00 1.0000e+00 2.9600e+02 1.5300e+01 3.9690e+02\n",
      "  4.9800e+00]\n",
      " [2.7310e-02 0.0000e+00 7.0700e+00 0.0000e+00 4.6900e-01 6.4210e+00\n",
      "  7.8900e+01 4.9671e+00 2.0000e+00 2.4200e+02 1.7800e+01 3.9690e+02\n",
      "  9.1400e+00]\n",
      " [2.7290e-02 0.0000e+00 7.0700e+00 0.0000e+00 4.6900e-01 7.1850e+00\n",
      "  6.1100e+01 4.9671e+00 2.0000e+00 2.4200e+02 1.7800e+01 3.9283e+02\n",
      "  4.0300e+00]\n",
      " [3.2370e-02 0.0000e+00 2.1800e+00 0.0000e+00 4.5800e-01 6.9980e+00\n",
      "  4.5800e+01 6.0622e+00 3.0000e+00 2.2200e+02 1.8700e+01 3.9463e+02\n",
      "  2.9400e+00]\n",
      " [6.9050e-02 0.0000e+00 2.1800e+00 0.0000e+00 4.5800e-01 7.1470e+00\n",
      "  5.4200e+01 6.0622e+00 3.0000e+00 2.2200e+02 1.8700e+01 3.9690e+02\n",
      "  5.3300e+00]]\n",
      "項目名:  ['CRIM' 'ZN' 'INDUS' 'CHAS' 'NOX' 'RM' 'AGE' 'DIS' 'RAD' 'TAX' 'PTRATIO'\n",
      " 'B' 'LSTAT']\n"
     ]
    }
   ],
   "source": [
    "# x_orgの内容を調べる\n",
    "\n",
    "print('クラス名:', type(x_org))\n",
    "print('サイズ:', x_org.shape)\n",
    "print('内容表示(一部):')\n",
    "print( x_org[:5,:])\n",
    "print('項目名: ', feature_names)"
   ]
  },
  {
   "cell_type": "code",
   "execution_count": 5,
   "metadata": {},
   "outputs": [],
   "source": [
    "# x_org は506 x 13 の行列\n",
    "# この行列から'RM' の列だけを抽出する\n",
    "\n",
    "x_data = x_org[:,feature_names == 'RM']"
   ]
  },
  {
   "cell_type": "code",
   "execution_count": 6,
   "metadata": {},
   "outputs": [
    {
     "name": "stdout",
     "output_type": "stream",
     "text": [
      "絞り込み後のサイズ (506, 1)\n",
      "絞り込み後の内容(一部)\n",
      "[[6.575]\n",
      " [6.421]\n",
      " [7.185]\n",
      " [6.998]\n",
      " [7.147]]\n"
     ]
    }
   ],
   "source": [
    "# 結果確認\n",
    "\n",
    "print('絞り込み後のサイズ', x_data.shape)\n",
    "print('絞り込み後の内容(一部)')\n",
    "print( x_data[:5])"
   ]
  },
  {
   "cell_type": "code",
   "execution_count": 7,
   "metadata": {},
   "outputs": [],
   "source": [
    "# ダミー変数を追加\n",
    "\n",
    "x = np.insert(x_data, 0, 1.0, axis=1)"
   ]
  },
  {
   "cell_type": "code",
   "execution_count": 8,
   "metadata": {},
   "outputs": [
    {
     "name": "stdout",
     "output_type": "stream",
     "text": [
      "ダミー変数追加後のサイズ (506, 2)\n",
      "ダミー変数追加後の内容(一部):\n",
      "[[1.    6.575]\n",
      " [1.    6.421]\n",
      " [1.    7.185]\n",
      " [1.    6.998]\n",
      " [1.    7.147]]\n"
     ]
    }
   ],
   "source": [
    "# 結果確認\n",
    "\n",
    "print('ダミー変数追加後のサイズ', x.shape)\n",
    "print('ダミー変数追加後の内容(一部):')\n",
    "print( x[:5,:])"
   ]
  },
  {
   "cell_type": "markdown",
   "metadata": {},
   "source": [
    "## 重回帰用データ追加"
   ]
  },
  {
   "cell_type": "code",
   "execution_count": 9,
   "metadata": {},
   "outputs": [],
   "source": [
    "# 列(LSTAT: 低所得者率)の取得\n",
    "x_add = x_org[:,feature_names == 'LSTAT']"
   ]
  },
  {
   "cell_type": "code",
   "execution_count": 10,
   "metadata": {},
   "outputs": [
    {
     "name": "stdout",
     "output_type": "stream",
     "text": [
      "絞り込み後のサイズ (506, 1)\n",
      "絞り込み後の内容(一部)\n",
      "[[4.98]\n",
      " [9.14]\n",
      " [4.03]\n",
      " [2.94]\n",
      " [5.33]]\n"
     ]
    }
   ],
   "source": [
    "# 結果確認\n",
    "print('絞り込み後のサイズ', x_add.shape)\n",
    "print('絞り込み後の内容(一部)')\n",
    "print( x_add[:5])"
   ]
  },
  {
   "cell_type": "code",
   "execution_count": 11,
   "metadata": {},
   "outputs": [],
   "source": [
    "# xに列を追加\n",
    "x2 = np.hstack((x, x_add))"
   ]
  },
  {
   "cell_type": "code",
   "execution_count": 12,
   "metadata": {},
   "outputs": [
    {
     "name": "stdout",
     "output_type": "stream",
     "text": [
      "絞り込み後のサイズ (506, 3)\n",
      "絞り込み後の内容(一部)\n",
      "[[1.    6.575 4.98 ]\n",
      " [1.    6.421 9.14 ]\n",
      " [1.    7.185 4.03 ]\n",
      " [1.    6.998 2.94 ]\n",
      " [1.    7.147 5.33 ]]\n"
     ]
    }
   ],
   "source": [
    "# 結果確認\n",
    "print('絞り込み後のサイズ', x2.shape)\n",
    "print('絞り込み後の内容(一部)')\n",
    "print( x2[:5])"
   ]
  },
  {
   "cell_type": "code",
   "execution_count": null,
   "metadata": {},
   "outputs": [],
   "source": []
  }
 ],
 "metadata": {
  "kernelspec": {
   "display_name": "Python 3",
   "language": "python",
   "name": "python3"
  },
  "language_info": {
   "codemirror_mode": {
    "name": "ipython",
    "version": 3
   },
   "file_extension": ".py",
   "mimetype": "text/x-python",
   "name": "python",
   "nbconvert_exporter": "python",
   "pygments_lexer": "ipython3",
   "version": "3.7.3"
  }
 },
 "nbformat": 4,
 "nbformat_minor": 2
}
