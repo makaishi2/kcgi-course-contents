{
 "cells": [
  {
   "cell_type": "markdown",
   "metadata": {},
   "source": [
    "## Numpy入門　課題"
   ]
  },
  {
   "cell_type": "markdown",
   "metadata": {},
   "source": [
    "#### 問題1\n",
    "一次元配列のshapeの結果は``(3,)``のように後ろにカンマが付いた形で返ってきます。  \n",
    "なぜ``(3)``のような形にならないのか説明して下さい。\n",
    "(前回の課題の復習です)\n"
   ]
  },
  {
   "cell_type": "code",
   "execution_count": 2,
   "metadata": {},
   "outputs": [
    {
     "name": "stdout",
     "output_type": "stream",
     "text": [
      "(3,)\n",
      "(2, 3)\n"
     ]
    }
   ],
   "source": [
    "# (例)\n",
    "import numpy as np\n",
    "\n",
    "v = np.array([1,2,3])\n",
    "print(v.shape)\n",
    "\n",
    "M = np.array([[1,2,3],[4,5,6]])\n",
    "print(M.shape)"
   ]
  },
  {
   "cell_type": "code",
   "execution_count": null,
   "metadata": {},
   "outputs": [],
   "source": [
    "# 解答1\n",
    "#\n",
    "#\n",
    "#\n",
    "#"
   ]
  },
  {
   "cell_type": "markdown",
   "metadata": {},
   "source": [
    "#### 問題2\n",
    "\n",
    "np.random.randn関数と、スカラー和、スカラー積の仕組みを利用して  \n",
    "平均4、標準偏差2の乱数を要素をして持つ 2x3 の行列Nを作って下さい。  \n",
    "\n",
    "(ヒント)平均0、標準偏差1の乱数を2倍して4を足すと、上記の乱数になります。"
   ]
  },
  {
   "cell_type": "code",
   "execution_count": 3,
   "metadata": {},
   "outputs": [
    {
     "name": "stdout",
     "output_type": "stream",
     "text": [
      "[[4.51744641 4.49728235 4.51347257]\n",
      " [4.76739818 5.15286872 5.88631157]]\n"
     ]
    }
   ],
   "source": [
    "# 解答2\n",
    "\n",
    "Z = np.random.rand(2,3)\n",
    "N = \n",
    "\n",
    "print(N)"
   ]
  },
  {
   "cell_type": "code",
   "execution_count": null,
   "metadata": {},
   "outputs": [],
   "source": []
  }
 ],
 "metadata": {
  "kernelspec": {
   "display_name": "Python 3",
   "language": "python",
   "name": "python3"
  },
  "language_info": {
   "codemirror_mode": {
    "name": "ipython",
    "version": 3
   },
   "file_extension": ".py",
   "mimetype": "text/x-python",
   "name": "python",
   "nbconvert_exporter": "python",
   "pygments_lexer": "ipython3",
   "version": "3.7.3"
  }
 },
 "nbformat": 4,
 "nbformat_minor": 2
}
