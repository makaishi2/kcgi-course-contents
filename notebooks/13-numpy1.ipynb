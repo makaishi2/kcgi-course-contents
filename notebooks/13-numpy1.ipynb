{
 "cells": [
  {
   "cell_type": "markdown",
   "metadata": {},
   "source": [
    "## Numpy入門"
   ]
  },
  {
   "cell_type": "markdown",
   "metadata": {},
   "source": [
    "### Numpyの特徴\n",
    "\n",
    "numpy配列を使って、配列計算を行えます。  \n",
    "NativeなPythonの機能と比較してNumpyを使うことにより次のメリットがあります。\n",
    "\n",
    "* 処理速度が早くなる\n",
    "* 配列の扱い方が柔軟\n",
    "* コードがシンプルになる\n",
    "\n",
    "より詳しい解説は例えば下記のリンク参照して下さい。  \n",
    "[numpyの何がすごいのか？](https://to-kei.net/python/data-analysis/what-is-numpy/)\n"
   ]
  },
  {
   "cell_type": "markdown",
   "metadata": {},
   "source": [
    "### 一次元配列"
   ]
  },
  {
   "cell_type": "markdown",
   "metadata": {},
   "source": [
    "#### 宣言"
   ]
  },
  {
   "cell_type": "code",
   "execution_count": 1,
   "metadata": {},
   "outputs": [],
   "source": [
    "# ライブラリのロード\n",
    "import numpy as np\n",
    "\n",
    "# 一次元配列の作成\n",
    "# リスト配列を引数に、array関数でnumpy一次元配列を作ります。\n",
    "\n",
    "list1 = list(range(2,12,2))\n",
    "arr1 = np.array(list1)"
   ]
  },
  {
   "cell_type": "code",
   "execution_count": 2,
   "metadata": {},
   "outputs": [
    {
     "name": "stdout",
     "output_type": "stream",
     "text": [
      "list配列:  [2, 4, 6, 8, 10]\n",
      "numpy配列:  [ 2  4  6  8 10]\n"
     ]
    },
    {
     "data": {
      "text/plain": [
       "array([ 2,  4,  6,  8, 10])"
      ]
     },
     "execution_count": 2,
     "metadata": {},
     "output_type": "execute_result"
    }
   ],
   "source": [
    "# print文による表示結果の比較\n",
    "# 画面上はカンマのあるなしで区別します。\n",
    "\n",
    "print('list配列: ', list1)\n",
    "print('numpy配列: ', arr1)\n",
    "arr1"
   ]
  },
  {
   "cell_type": "code",
   "execution_count": 3,
   "metadata": {},
   "outputs": [
    {
     "name": "stdout",
     "output_type": "stream",
     "text": [
      "[ 2  4  6  8 10]\n"
     ]
    },
    {
     "data": {
      "text/plain": [
       "array([ 2,  4,  6,  8, 10], dtype=int32)"
      ]
     },
     "execution_count": 3,
     "metadata": {},
     "output_type": "execute_result"
    }
   ],
   "source": [
    "# データ型(dtype)つき変数作成\n",
    "\n",
    "# 個々の要素をデータ型付きで定義することも可能です。\n",
    "# 型には、以下のようなものがあります。\n",
    "#\n",
    "# 符号付き整数: int8, int16, int32, int64\n",
    "# 符号なし整数: unit8, uint16, uint32, uint64\n",
    "# 浮動小数点: float16, float32, float64, float128\n",
    "\n",
    "arr2 = np.array([2, 4, 6, 8,10], dtype=np.int32)\n",
    "print(arr2)\n",
    "\n",
    "arr2"
   ]
  },
  {
   "cell_type": "code",
   "execution_count": 4,
   "metadata": {},
   "outputs": [
    {
     "name": "stdout",
     "output_type": "stream",
     "text": [
      "<class 'numpy.ndarray'>\n"
     ]
    }
   ],
   "source": [
    "# 型は' numpy.ndarray' となります\n",
    "\n",
    "print(type(arr1))"
   ]
  },
  {
   "cell_type": "code",
   "execution_count": 5,
   "metadata": {},
   "outputs": [
    {
     "name": "stdout",
     "output_type": "stream",
     "text": [
      "(5,)\n"
     ]
    }
   ],
   "source": [
    "# 配列の要素数は'shape'という属性で取得可能です\n",
    "# 結果はtuppleで返されます\n",
    "\n",
    "print(arr1.shape)"
   ]
  },
  {
   "cell_type": "markdown",
   "metadata": {},
   "source": [
    "#### 参照"
   ]
  },
  {
   "cell_type": "code",
   "execution_count": 6,
   "metadata": {},
   "outputs": [
    {
     "name": "stdout",
     "output_type": "stream",
     "text": [
      "2\n",
      "10\n"
     ]
    }
   ],
   "source": [
    "# 要素の参照例\n",
    "\n",
    "# 先頭\n",
    "print(arr1[0])\n",
    "\n",
    "# 一番後ろの要素は-1で参照できます\n",
    "print(arr1[-1])"
   ]
  },
  {
   "cell_type": "code",
   "execution_count": 7,
   "metadata": {},
   "outputs": [
    {
     "name": "stdout",
     "output_type": "stream",
     "text": [
      "[2 4]\n",
      "[ 6  8 10]\n"
     ]
    }
   ],
   "source": [
    "# 範囲付き参照\n",
    "# このパターンはlist変数と同じです。\n",
    "\n",
    "# 0以上2未満\n",
    "print(arr1[:2])\n",
    "\n",
    "# 2以上\n",
    "print(arr1[2:])"
   ]
  },
  {
   "cell_type": "code",
   "execution_count": 8,
   "metadata": {},
   "outputs": [
    {
     "name": "stdout",
     "output_type": "stream",
     "text": [
      "[ 2  6 10]\n",
      "[8 4]\n"
     ]
    }
   ],
   "source": [
    "# こういうアクセス方法も可能です\n",
    "# (これはlistではできない)\n",
    "\n",
    "print(arr1[[0,2,4]])\n",
    "print(arr1[[3,1]])"
   ]
  },
  {
   "cell_type": "markdown",
   "metadata": {},
   "source": [
    "#### 計算"
   ]
  },
  {
   "cell_type": "code",
   "execution_count": 9,
   "metadata": {},
   "outputs": [
    {
     "name": "stdout",
     "output_type": "stream",
     "text": [
      "[ 2  4  6  8 10]\n",
      "[0 1 2 3 4]\n"
     ]
    }
   ],
   "source": [
    "# 計算の例\n",
    "# numpy配列を対象にすると計算を一気に行うことができます\n",
    "\n",
    "arr1 = np.array(list(range(2,12,2)))\n",
    "arr3 = np.array(list(range(5)))\n",
    "print(arr1)\n",
    "print(arr3)"
   ]
  },
  {
   "cell_type": "code",
   "execution_count": 10,
   "metadata": {},
   "outputs": [
    {
     "name": "stdout",
     "output_type": "stream",
     "text": [
      "[ 2  5  8 11 14]\n"
     ]
    }
   ],
   "source": [
    "# 足し算\n",
    "# list変数だとループを回す必要があります\n",
    "\n",
    "arr4 = arr1 + arr3\n",
    "print(arr4)"
   ]
  },
  {
   "cell_type": "code",
   "execution_count": 11,
   "metadata": {},
   "outputs": [
    {
     "name": "stdout",
     "output_type": "stream",
     "text": [
      "[ 5  7  9 11 13]\n"
     ]
    }
   ],
   "source": [
    "# ブロードキャスト機能\n",
    "# サイズの異なる変数同士の演算では、サイズを自動的に合わせて計算します\n",
    "\n",
    "arr5 = arr1 + 3\n",
    "print(arr5)"
   ]
  },
  {
   "cell_type": "code",
   "execution_count": 12,
   "metadata": {},
   "outputs": [
    {
     "name": "stdout",
     "output_type": "stream",
     "text": [
      "[0.69314718 1.38629436 1.79175947 2.07944154 2.30258509]\n"
     ]
    }
   ],
   "source": [
    "# 関数呼び出し\n",
    "# numpy関数と組み合わせると、関数呼び出しも全要素分まとめて行えます\n",
    "\n",
    "# 対数関数の呼出し\n",
    "arr6 = np.log(arr1)\n",
    "print(arr6)"
   ]
  },
  {
   "cell_type": "code",
   "execution_count": 13,
   "metadata": {},
   "outputs": [
    {
     "name": "stdout",
     "output_type": "stream",
     "text": [
      "[ True False  True False  True]\n"
     ]
    }
   ],
   "source": [
    "# ブロードキャスト機能とindex機能を組み合わせてこんなことも可能です\n",
    "# arr2 から偶数の要素だけを抜き出す\n",
    "\n",
    "arr3 = np.array(list(range(5)))\n",
    "w = (arr3 % 2) == 0\n",
    "print(w)"
   ]
  },
  {
   "cell_type": "code",
   "execution_count": 14,
   "metadata": {},
   "outputs": [
    {
     "name": "stdout",
     "output_type": "stream",
     "text": [
      "[0 2 4]\n"
     ]
    }
   ],
   "source": [
    "arr7 = arr3[w]\n",
    "print(arr7)"
   ]
  },
  {
   "cell_type": "code",
   "execution_count": 15,
   "metadata": {},
   "outputs": [
    {
     "name": "stdout",
     "output_type": "stream",
     "text": [
      "[0 2 4]\n"
     ]
    }
   ],
   "source": [
    "# まとめて書くとこうなります\n",
    "\n",
    "arr8 = arr3[(arr3 % 2) == 0]\n",
    "print(arr8)"
   ]
  },
  {
   "cell_type": "code",
   "execution_count": 16,
   "metadata": {},
   "outputs": [
    {
     "name": "stdout",
     "output_type": "stream",
     "text": [
      "[ 2  4  6  8 10]\n",
      "[0 1 2 3 4]\n",
      "80\n"
     ]
    }
   ],
   "source": [
    "# 内積\n",
    "# 記号 '@' を使って内積計算が可能です。\n",
    "\n",
    "arr1 = np.array(list(range(2,12,2)))\n",
    "arr3 = np.array(list(range(5)))\n",
    "print(arr1)\n",
    "print(arr3)\n",
    "\n",
    "p = arr1 @ arr3\n",
    "print(p)"
   ]
  },
  {
   "cell_type": "markdown",
   "metadata": {},
   "source": [
    "### 二次元配列\n",
    "\n",
    "numpyでは行列のような二次元配列も扱えます。  "
   ]
  },
  {
   "cell_type": "markdown",
   "metadata": {},
   "source": [
    "#### 宣言"
   ]
  },
  {
   "cell_type": "code",
   "execution_count": 17,
   "metadata": {},
   "outputs": [],
   "source": [
    "# 二次元配列の宣言\n",
    "# この場合、引数はlistのlistとなります。\n",
    "\n",
    "arr8 = np.array([[1,2,3,4,5], [6,7,8,9,10],[11,12,13,14,15]])"
   ]
  },
  {
   "cell_type": "code",
   "execution_count": 18,
   "metadata": {},
   "outputs": [
    {
     "name": "stdout",
     "output_type": "stream",
     "text": [
      "[[ 1  2  3  4  5]\n",
      " [ 6  7  8  9 10]\n",
      " [11 12 13 14 15]]\n"
     ]
    }
   ],
   "source": [
    "# 二次元配列をprint関数にかけるとこのような表示になります\n",
    "\n",
    "print(arr8)"
   ]
  },
  {
   "cell_type": "code",
   "execution_count": 19,
   "metadata": {},
   "outputs": [
    {
     "name": "stdout",
     "output_type": "stream",
     "text": [
      "(3, 5)\n"
     ]
    }
   ],
   "source": [
    "# 要素数の取得\n",
    "\n",
    "print(arr8.shape)"
   ]
  },
  {
   "cell_type": "markdown",
   "metadata": {},
   "source": [
    "#### 参照"
   ]
  },
  {
   "cell_type": "code",
   "execution_count": 20,
   "metadata": {},
   "outputs": [
    {
     "name": "stdout",
     "output_type": "stream",
     "text": [
      "8\n"
     ]
    }
   ],
   "source": [
    "# 要素の参照は「(第一次元引数),(第二次元引数)」の形式\n",
    "\n",
    "print(arr8[1,2])"
   ]
  },
  {
   "cell_type": "code",
   "execution_count": 21,
   "metadata": {},
   "outputs": [
    {
     "name": "stdout",
     "output_type": "stream",
     "text": [
      "[[ 3  4  5]\n",
      " [ 8  9 10]]\n"
     ]
    }
   ],
   "source": [
    "# それぞれの次元に対して範囲指定で参照することも可能\n",
    "\n",
    "print(arr8[:2,2:])"
   ]
  },
  {
   "cell_type": "markdown",
   "metadata": {},
   "source": [
    "#### 計算"
   ]
  },
  {
   "cell_type": "code",
   "execution_count": 22,
   "metadata": {},
   "outputs": [
    {
     "name": "stdout",
     "output_type": "stream",
     "text": [
      "[[ 3  6  9]\n",
      " [12 15 18]]\n"
     ]
    }
   ],
   "source": [
    "# スカラー積\n",
    "\n",
    "a = np.array([[1,2,3],[4,5,6]])\n",
    "b = a * 3\n",
    "print(b)"
   ]
  },
  {
   "cell_type": "code",
   "execution_count": 23,
   "metadata": {},
   "outputs": [
    {
     "name": "stdout",
     "output_type": "stream",
     "text": [
      "[[4 5 6]\n",
      " [7 8 9]]\n"
     ]
    }
   ],
   "source": [
    "# スカラー和\n",
    "\n",
    "a = np.array([[1,2,3],[4,5,6]])\n",
    "c = a + 3\n",
    "print(c)"
   ]
  },
  {
   "cell_type": "code",
   "execution_count": 24,
   "metadata": {},
   "outputs": [
    {
     "name": "stdout",
     "output_type": "stream",
     "text": [
      "[[ 4  8 12]\n",
      " [16 20 24]]\n"
     ]
    }
   ],
   "source": [
    "# 行列同士の和\n",
    "\n",
    "d = a + b\n",
    "print(d)"
   ]
  },
  {
   "cell_type": "code",
   "execution_count": 25,
   "metadata": {},
   "outputs": [
    {
     "name": "stdout",
     "output_type": "stream",
     "text": [
      "[[1 2 3]\n",
      " [4 5 6]]\n",
      "[3 2 1]\n"
     ]
    }
   ],
   "source": [
    "# 行列と1次元配列の内積\n",
    "\n",
    "a = np.array([[1,2,3],[4,5,6]])\n",
    "x = np.array([3,2,1])\n",
    "print(a)\n",
    "print(x)"
   ]
  },
  {
   "cell_type": "code",
   "execution_count": 26,
   "metadata": {},
   "outputs": [
    {
     "name": "stdout",
     "output_type": "stream",
     "text": [
      "[10 28]\n"
     ]
    }
   ],
   "source": [
    "# '@'による内積\n",
    "# 行列とベクトルの積になる\n",
    "\n",
    "y = a @ x\n",
    "print(y)"
   ]
  },
  {
   "cell_type": "code",
   "execution_count": 27,
   "metadata": {},
   "outputs": [
    {
     "name": "stdout",
     "output_type": "stream",
     "text": [
      "[[ 3  4  3]\n",
      " [12 10  6]]\n"
     ]
    }
   ],
   "source": [
    "# * による積\n",
    "# ブロードキャスト機能により要素間の積になる\n",
    "\n",
    "z = a * x\n",
    "print(z)"
   ]
  },
  {
   "cell_type": "markdown",
   "metadata": {},
   "source": [
    "####  特別な配列の生成"
   ]
  },
  {
   "cell_type": "code",
   "execution_count": 28,
   "metadata": {},
   "outputs": [
    {
     "name": "stdout",
     "output_type": "stream",
     "text": [
      "[[0. 0. 0.]\n",
      " [0. 0. 0.]]\n",
      "(2, 3)\n"
     ]
    }
   ],
   "source": [
    "# 要素数(2,3) すべての要素が0の配列\n",
    "\n",
    "z23 = np.zeros((2,3))\n",
    "print(z23)\n",
    "print(z23.shape)"
   ]
  },
  {
   "cell_type": "code",
   "execution_count": 29,
   "metadata": {},
   "outputs": [
    {
     "name": "stdout",
     "output_type": "stream",
     "text": [
      "[[1. 1. 1.]\n",
      " [1. 1. 1.]]\n",
      "(2, 3)\n"
     ]
    }
   ],
   "source": [
    "# 要素数(2,3) すべての要素が1の配列\n",
    "\n",
    "o23 = np.ones((2,3))\n",
    "print(o23)\n",
    "print(o23.shape)"
   ]
  },
  {
   "cell_type": "code",
   "execution_count": 30,
   "metadata": {},
   "outputs": [
    {
     "name": "stdout",
     "output_type": "stream",
     "text": [
      "[[0.8220017  0.73618103 0.24159392]\n",
      " [0.57484238 0.90228096 0.73743698]]\n",
      "(2, 3)\n"
     ]
    }
   ],
   "source": [
    "# 要素数(2,3) すべての要素が[0,1]間の一様乱数の配列\n",
    "\n",
    "u23 = np.random.rand(2,3)\n",
    "print(u23)\n",
    "print(u23.shape)"
   ]
  },
  {
   "cell_type": "code",
   "execution_count": 31,
   "metadata": {},
   "outputs": [
    {
     "name": "stdout",
     "output_type": "stream",
     "text": [
      "[[-0.33634642 -0.03324047 -0.95615384]\n",
      " [-0.4787232  -0.00488082  0.38166286]]\n",
      "(2, 3)\n"
     ]
    }
   ],
   "source": [
    "# 要素数(2,3) すべての要素が平均0分散1の正規分布乱数の配列\n",
    "\n",
    "s23 = np.random.randn(2,3)\n",
    "print(s23)\n",
    "print(s23.shape)"
   ]
  },
  {
   "cell_type": "code",
   "execution_count": null,
   "metadata": {},
   "outputs": [],
   "source": []
  }
 ],
 "metadata": {
  "kernelspec": {
   "display_name": "Python 3",
   "language": "python",
   "name": "python3"
  },
  "language_info": {
   "codemirror_mode": {
    "name": "ipython",
    "version": 3
   },
   "file_extension": ".py",
   "mimetype": "text/x-python",
   "name": "python",
   "nbconvert_exporter": "python",
   "pygments_lexer": "ipython3",
   "version": "3.7.3"
  }
 },
 "nbformat": 4,
 "nbformat_minor": 1
}
